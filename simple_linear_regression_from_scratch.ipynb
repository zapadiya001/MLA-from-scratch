{
 "cells": [
  {
   "cell_type": "markdown",
   "id": "8fca6320-c27d-4625-a1cd-0d23ee4ec1a2",
   "metadata": {},
   "source": [
    "# Linear Regression using python"
   ]
  },
  {
   "cell_type": "markdown",
   "id": "b8400ae2-987a-400a-ac77-308de9be32b3",
   "metadata": {},
   "source": [
    "## - What is Linear regression ?"
   ]
  },
  {
   "cell_type": "markdown",
   "id": "13c136f9-a53d-424e-b910-3701cdc4dfd9",
   "metadata": {},
   "source": [
    "**- Linear regression is a supervised learning algorithm used to predict a numeric (continuous) output based on one or more input variables.\n",
    " It tries to draw the best straight line (in 2D) or flat plane (in more dimensions) through your data to estimate the relationship between input(s) and \n",
    " output.**"
   ]
  },
  {
   "cell_type": "markdown",
   "id": "fc8aaef1-dc0a-44d4-92d5-f64611ab0845",
   "metadata": {},
   "source": [
    "## - Math behind linear regression"
   ]
  },
  {
   "cell_type": "markdown",
   "id": "99f88432-8574-405f-900d-063988707110",
   "metadata": {},
   "source": [
    "For one input (simple linear regression): \n",
    "\n",
    "   **y = wx+b**\n",
    "   \n",
    "y: predicted value\n",
    "\n",
    "x: input value\n",
    "\n",
    "w: weight (slope of the line)\n",
    "\n",
    "b: bias (y-intercept)"
   ]
  },
  {
   "cell_type": "markdown",
   "id": "f5620195-eea6-4b18-97c0-de339194da2d",
   "metadata": {},
   "source": [
    "For multiple inputs (multiple linear regression):\n",
    "\n",
    "**y =w1x1 + w2x2 +⋯+ wnxn + b**"
   ]
  },
  {
   "cell_type": "markdown",
   "id": "5da91464-fec0-454f-b74f-00be52401bfd",
   "metadata": {},
   "source": [
    "***The goal is to find values of 𝑤 and b that make the predictions y as close as possible to the true values 𝑦 . This is usually done by minimizing the Mean Squared Error (MSE).***"
   ]
  },
  {
   "cell_type": "markdown",
   "id": "d42e99e0-da64-477a-819d-27dcdd610c02",
   "metadata": {},
   "source": [
    "## Gradient descent: \n",
    "\n",
    "Initialize weights and bias\n",
    "\n",
    "Use gradient descent to update:\n",
    "\n",
    "𝑤 ← 𝑤 − 𝛼 ∂Loss/∂w\n",
    "\n",
    "𝑏 ← 𝑏 − 𝛼 ∂Loss/∂b \n",
    "\n",
    "Repeat for many epochs\n",
    "\n",
    "Loss = Mean Squared Error (MSE)\n",
    "\n",
    "\n",
    " "
   ]
  },
  {
   "cell_type": "code",
   "execution_count": 10,
   "id": "2f71fb93-afd1-45ff-a01f-8053f777ee23",
   "metadata": {},
   "outputs": [],
   "source": [
    "import numpy as np \n",
    "import matplotlib.pyplot as plt"
   ]
  },
  {
   "cell_type": "code",
   "execution_count": 56,
   "id": "0a4125f2-a05e-4145-8ccf-d872e59ded73",
   "metadata": {},
   "outputs": [],
   "source": [
    "# Linear regression\n",
    "class LinearRegression():\n",
    "\n",
    "    def __init__(self, learning_rate, epochs):\n",
    "        self.learning_rate = learning_rate\n",
    "        self.epochs = epochs\n",
    "\n",
    "    # function for model training\n",
    "\n",
    "    def fit(self, X, Y):\n",
    "         # no_of_training_examples, no_of_features\n",
    "        self.m, self.n = X.shape\n",
    "\n",
    "        # weight initialization\n",
    "        self.W = np.zeros(self.n)\n",
    "        self.b = 0\n",
    "        self.X = X\n",
    "        self.Y = Y\n",
    "\n",
    "        # gradient descent learning\n",
    "        for i in range(self.epochs):\n",
    "            if i % 500 == 0:\n",
    "                loss = np.mean((self.Y - self.predict(self.X)) ** 2)\n",
    "                print(f\"Epoch {i}, Loss: {loss}\")\n",
    "            self.update_weights()\n",
    "            \n",
    "        return self\n",
    "\n",
    "     # Helper function to update weights in gradient descent\n",
    "    def update_weights(self):\n",
    "\n",
    "        Y_pred = self.predict(self.X)\n",
    "\n",
    "        #calculate gradient\n",
    "        dw = -(2/self.m) * (self.X.T).dot(self.Y - Y_pred)\n",
    "        db = -(2/self.m) * (np.sum( self.Y - Y_pred))\n",
    "\n",
    "        # update weights\n",
    "\n",
    "        self.W = self.W - self.learning_rate * dw\n",
    "        self.b = self.b - self.learning_rate * db\n",
    "\n",
    "        return self\n",
    "\n",
    "     # Hypothetical function  h(x)\n",
    "    def predict( self, X ) : \n",
    "        return X.dot( self.W ) + self.b\n",
    "        "
   ]
  },
  {
   "cell_type": "code",
   "execution_count": 57,
   "id": "41b76b00-fdb2-4328-b883-2c836e04a85f",
   "metadata": {},
   "outputs": [
    {
     "name": "stdout",
     "output_type": "stream",
     "text": [
      "Epoch 0, Loss: 334.24799138456234\n",
      "Epoch 500, Loss: 7.36262141176141\n",
      "Epoch 1000, Loss: 2.396771027569237\n",
      "Epoch 1500, Loss: 1.1922890755890536\n",
      "Epoch 2000, Loss: 0.9001383538468637\n",
      "Epoch 2500, Loss: 0.829276317206002\n",
      "Epoch 3000, Loss: 0.8120885169947066\n",
      "Epoch 3500, Loss: 0.8079195643353201\n",
      "Epoch 4000, Loss: 0.8069083723233962\n",
      "Epoch 4500, Loss: 0.8066631046582248\n",
      "Learned Weights: [[2.4525588 2.4525588 2.4525588 2.4525588 2.4525588 2.4525588 2.4525588\n",
      "  2.4525588 2.4525588 2.4525588 2.4525588 2.4525588 2.4525588 2.4525588\n",
      "  2.4525588 2.4525588 2.4525588 2.4525588 2.4525588 2.4525588 2.4525588\n",
      "  2.4525588 2.4525588 2.4525588 2.4525588 2.4525588 2.4525588 2.4525588\n",
      "  2.4525588 2.4525588 2.4525588 2.4525588 2.4525588 2.4525588 2.4525588\n",
      "  2.4525588 2.4525588 2.4525588 2.4525588 2.4525588 2.4525588 2.4525588\n",
      "  2.4525588 2.4525588 2.4525588 2.4525588 2.4525588 2.4525588 2.4525588\n",
      "  2.4525588 2.4525588 2.4525588 2.4525588 2.4525588 2.4525588 2.4525588\n",
      "  2.4525588 2.4525588 2.4525588 2.4525588 2.4525588 2.4525588 2.4525588\n",
      "  2.4525588 2.4525588 2.4525588 2.4525588 2.4525588 2.4525588 2.4525588\n",
      "  2.4525588 2.4525588 2.4525588 2.4525588 2.4525588 2.4525588 2.4525588\n",
      "  2.4525588 2.4525588 2.4525588 2.4525588 2.4525588 2.4525588 2.4525588\n",
      "  2.4525588 2.4525588 2.4525588 2.4525588 2.4525588 2.4525588 2.4525588\n",
      "  2.4525588 2.4525588 2.4525588 2.4525588 2.4525588 2.4525588 2.4525588\n",
      "  2.4525588 2.4525588]], Bias: 5.222503299404778\n"
     ]
    },
    {
     "data": {
      "image/png": "[encoded data removed]",
      "text/plain": [
       "<Figure size 640x480 with 1 Axes>"
      ]
     },
     "metadata": {},
     "output_type": "display_data"
    }
   ],
   "source": [
    "# driver code \n",
    "def main():\n",
    "    # Generate random linear data\n",
    "    np.random.seed(42)\n",
    "    X = np.random.rand(100, 1) * 10     # 100 data points between 0 and 10\n",
    "    true_slope = 2.5\n",
    "    true_intercept = 5\n",
    "    noise = np.random.randn(100, 1)     # Random noise\n",
    "\n",
    "    # Create Y = 2.5*X + 5 + noise\n",
    "    Y = true_slope * X + true_intercept + noise\n",
    "    \n",
    "    # Train model\n",
    "    model = LinearRegression(learning_rate=0.0001, epochs=5000)\n",
    "    model.fit(X, Y)\n",
    "\n",
    "    # Predictions\n",
    "    Y_pred = model.predict(X)\n",
    "\n",
    "    # Evaluate\n",
    "    \n",
    "    print(f\"Learned Weights: {model.W}, Bias: {model.b}\")\n",
    "\n",
    "    # Plot results\n",
    "    plt.scatter(X, Y, label=\"Data\")\n",
    "    plt.plot(X, Y_pred, color='red', label=\"Prediction Line\")\n",
    "    plt.xlabel(\"X\")\n",
    "    plt.ylabel(\"Y\")\n",
    "    plt.title(\"Linear Regression Fit\")\n",
    "    plt.show()\n",
    "\n",
    "main()"
   ]
  }
 ],
 "metadata": {
  "kernelspec": {
   "display_name": "Python 3 (ipykernel)",
   "language": "python",
   "name": "python3"
  },
  "language_info": {
   "codemirror_mode": {
    "name": "ipython",
    "version": 3
   },
   "file_extension": ".py",
   "mimetype": "text/x-python",
   "name": "python",
   "nbconvert_exporter": "python",
   "pygments_lexer": "ipython3",
   "version": "3.12.7"
  }
 },
 "nbformat": 4,
 "nbformat_minor": 5
}
